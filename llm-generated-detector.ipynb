{
 "cells": [
  {
   "cell_type": "code",
   "execution_count": null,
   "id": "dc0aa265",
   "metadata": {
    "_cell_guid": "b1076dfc-b9ad-4769-8c92-a6c4dae69d19",
    "_uuid": "8f2839f25d086af736a60e9eeb907d3b93b6e0e5",
    "papermill": {
     "duration": 0.002899,
     "end_time": "2024-01-06T09:50:13.183748",
     "exception": false,
     "start_time": "2024-01-06T09:50:13.180849",
     "status": "completed"
    },
    "tags": []
   },
   "outputs": [],
   "source": []
  },
  {
   "cell_type": "code",
   "execution_count": null,
   "id": "2f57ab0d",
   "metadata": {
    "papermill": {
     "duration": 0.002077,
     "end_time": "2024-01-06T09:50:13.188439",
     "exception": false,
     "start_time": "2024-01-06T09:50:13.186362",
     "status": "completed"
    },
    "tags": []
   },
   "outputs": [],
   "source": []
  },
  {
   "cell_type": "code",
   "execution_count": null,
   "id": "d052a229",
   "metadata": {
    "papermill": {
     "duration": 0.002026,
     "end_time": "2024-01-06T09:50:13.192863",
     "exception": false,
     "start_time": "2024-01-06T09:50:13.190837",
     "status": "completed"
    },
    "tags": []
   },
   "outputs": [],
   "source": []
  },
  {
   "cell_type": "code",
   "execution_count": null,
   "id": "582abf39",
   "metadata": {
    "papermill": {
     "duration": 0.001992,
     "end_time": "2024-01-06T09:50:13.197087",
     "exception": false,
     "start_time": "2024-01-06T09:50:13.195095",
     "status": "completed"
    },
    "tags": []
   },
   "outputs": [],
   "source": []
  },
  {
   "cell_type": "code",
   "execution_count": null,
   "id": "58b6a525",
   "metadata": {
    "papermill": {
     "duration": 0.001979,
     "end_time": "2024-01-06T09:50:13.201261",
     "exception": false,
     "start_time": "2024-01-06T09:50:13.199282",
     "status": "completed"
    },
    "tags": []
   },
   "outputs": [],
   "source": []
  }
 ],
 "metadata": {
  "kaggle": {
   "accelerator": "none",
   "dataSources": [
    {
     "databundleVersionId": 6888007,
     "sourceId": 61542,
     "sourceType": "competition"
    }
   ],
   "dockerImageVersionId": 30626,
   "isGpuEnabled": false,
   "isInternetEnabled": true,
   "language": "python",
   "sourceType": "notebook"
  },
  "kernelspec": {
   "display_name": "Python 3",
   "language": "python",
   "name": "python3"
  },
  "language_info": {
   "codemirror_mode": {
    "name": "ipython",
    "version": 3
   },
   "file_extension": ".py",
   "mimetype": "text/x-python",
   "name": "python",
   "nbconvert_exporter": "python",
   "pygments_lexer": "ipython3",
   "version": "3.10.12"
  },
  "papermill": {
   "default_parameters": {},
   "duration": 4.01765,
   "end_time": "2024-01-06T09:50:13.624205",
   "environment_variables": {},
   "exception": null,
   "input_path": "__notebook__.ipynb",
   "output_path": "__notebook__.ipynb",
   "parameters": {},
   "start_time": "2024-01-06T09:50:09.606555",
   "version": "2.4.0"
  }
 },
 "nbformat": 4,
 "nbformat_minor": 5
}
